{
  "nbformat": 4,
  "nbformat_minor": 0,
  "metadata": {
    "language_info": {
      "name": "python",
      "version": "3.7.9",
      "mimetype": "text/x-python",
      "codemirror_mode": {
        "name": "ipython",
        "version": 3
      },
      "pygments_lexer": "ipython3",
      "nbconvert_exporter": "python",
      "file_extension": ".py"
    },
    "kernelspec": {
      "language": "python",
      "display_name": "Python 3",
      "name": "python3"
    },
    "colab": {
      "name": "predicting-no-shows-at-medical-appointments.ipynb",
      "provenance": [],
      "collapsed_sections": [
        "U_YrOjyizmle",
        "vF5Mr7dzzmlf",
        "c3VJ9Jjkzmlg",
        "0d-pjiBzzmlj",
        "XeR1SYLhzmlm",
        "5Z1qyl1Dzmlr",
        "DawqTGgYzmlz",
        "nDUGXSrizml0",
        "vks3TnxNzml2",
        "DfXPCZiNzml3",
        "UdZ_bccJzml3",
        "nUIzZxhVzml5",
        "wc1qjfCuzml6",
        "zPC-MWRZzml7"
      ],
      "include_colab_link": true
    }
  },
  "cells": [
    {
      "cell_type": "markdown",
      "metadata": {
        "id": "view-in-github",
        "colab_type": "text"
      },
      "source": [
        "<a href=\"https://colab.research.google.com/github/druvz/NoShow/blob/main/predicting_no_shows_at_medical_appointments.ipynb\" target=\"_parent\"><img src=\"https://colab.research.google.com/assets/colab-badge.svg\" alt=\"Open In Colab\"/></a>"
      ]
    },
    {
      "cell_type": "markdown",
      "metadata": {
        "_uuid": "89bbcbe42fcfbd1be02eccebe3b21b7f63a89710",
        "_cell_guid": "68461d9a-2929-4d37-add3-427a1c6dba71",
        "id": "Bziz3gbSzmlM"
      },
      "source": [
        "## Importing the Data"
      ]
    },
    {
      "cell_type": "code",
      "metadata": {
        "_uuid": "356551eff3620aa42cc51291efd9801c0365b7d7",
        "_cell_guid": "3d5a8771-221d-43c2-b0f1-50e68403107b",
        "execution": {
          "iopub.status.busy": "2021-06-02T12:31:14.929610Z",
          "iopub.execute_input": "2021-06-02T12:31:14.930358Z",
          "iopub.status.idle": "2021-06-02T12:31:15.451881Z",
          "shell.execute_reply.started": "2021-06-02T12:31:14.930224Z",
          "shell.execute_reply": "2021-06-02T12:31:15.450542Z"
        },
        "trusted": true,
        "id": "JBwh-gobzmlP"
      },
      "source": [
        "import pandas as pd\n",
        "import seaborn as sns\n",
        "from matplotlib import pyplot as plt\n",
        "url = 'https://raw.githubusercontent.com/druvz/NoShow/main/KaggleV2-May-2016.csv'\n",
        "df = pd.read_csv(url)\n",
        "\n"
      ],
      "execution_count": 114,
      "outputs": []
    },
    {
      "cell_type": "code",
      "metadata": {
        "colab": {
          "base_uri": "https://localhost:8080/"
        },
        "id": "LHZxpn7P1hm0",
        "outputId": "5f10ae34-a189-4fed-a0b9-4e2b3130de1a"
      },
      "source": [
        "df.columns"
      ],
      "execution_count": 115,
      "outputs": [
        {
          "output_type": "execute_result",
          "data": {
            "text/plain": [
              "Index(['PatientId', 'AppointmentID', 'Gender', 'ScheduledDay',\n",
              "       'AppointmentDay', 'Age', 'Neighbourhood', 'Scholarship', 'Hipertension',\n",
              "       'Diabetes', 'Alcoholism', 'Handcap', 'SMS_received', 'No-show'],\n",
              "      dtype='object')"
            ]
          },
          "metadata": {
            "tags": []
          },
          "execution_count": 115
        }
      ]
    },
    {
      "cell_type": "markdown",
      "metadata": {
        "_uuid": "b4ec439b9adce5923d9ea304e0368d3a0eb89685",
        "_cell_guid": "68266b50-687f-4f12-b475-9b0c97a7799c",
        "id": "5y0ew7e-zmlR"
      },
      "source": [
        "## Descriptive Summary"
      ]
    },
    {
      "cell_type": "code",
      "metadata": {
        "_uuid": "1160812ff5c7aa273d48b9780521a287cf5b36b4",
        "_cell_guid": "e5b0d6ec-623a-48f5-b0b3-c71abe04a7d8",
        "execution": {
          "iopub.status.busy": "2021-06-02T12:31:15.454493Z",
          "iopub.execute_input": "2021-06-02T12:31:15.455046Z",
          "iopub.status.idle": "2021-06-02T12:31:15.566180Z",
          "shell.execute_reply.started": "2021-06-02T12:31:15.454985Z",
          "shell.execute_reply": "2021-06-02T12:31:15.564884Z"
        },
        "trusted": true,
        "colab": {
          "base_uri": "https://localhost:8080/",
          "height": 297
        },
        "id": "-1_TjtUezmlR",
        "outputId": "f2b158c9-1ea6-49f8-bb7b-d7d0d84b0ed3"
      },
      "source": [
        "df.describe()"
      ],
      "execution_count": 116,
      "outputs": [
        {
          "output_type": "execute_result",
          "data": {
            "text/html": [
              "<div>\n",
              "<style scoped>\n",
              "    .dataframe tbody tr th:only-of-type {\n",
              "        vertical-align: middle;\n",
              "    }\n",
              "\n",
              "    .dataframe tbody tr th {\n",
              "        vertical-align: top;\n",
              "    }\n",
              "\n",
              "    .dataframe thead th {\n",
              "        text-align: right;\n",
              "    }\n",
              "</style>\n",
              "<table border=\"1\" class=\"dataframe\">\n",
              "  <thead>\n",
              "    <tr style=\"text-align: right;\">\n",
              "      <th></th>\n",
              "      <th>PatientId</th>\n",
              "      <th>AppointmentID</th>\n",
              "      <th>Age</th>\n",
              "      <th>Scholarship</th>\n",
              "      <th>Hipertension</th>\n",
              "      <th>Diabetes</th>\n",
              "      <th>Alcoholism</th>\n",
              "      <th>Handcap</th>\n",
              "      <th>SMS_received</th>\n",
              "    </tr>\n",
              "  </thead>\n",
              "  <tbody>\n",
              "    <tr>\n",
              "      <th>count</th>\n",
              "      <td>1.105270e+05</td>\n",
              "      <td>1.105270e+05</td>\n",
              "      <td>110527.000000</td>\n",
              "      <td>110527.000000</td>\n",
              "      <td>110527.000000</td>\n",
              "      <td>110527.000000</td>\n",
              "      <td>110527.000000</td>\n",
              "      <td>110527.000000</td>\n",
              "      <td>110527.000000</td>\n",
              "    </tr>\n",
              "    <tr>\n",
              "      <th>mean</th>\n",
              "      <td>1.474963e+14</td>\n",
              "      <td>5.675305e+06</td>\n",
              "      <td>37.088874</td>\n",
              "      <td>0.098266</td>\n",
              "      <td>0.197246</td>\n",
              "      <td>0.071865</td>\n",
              "      <td>0.030400</td>\n",
              "      <td>0.022248</td>\n",
              "      <td>0.321026</td>\n",
              "    </tr>\n",
              "    <tr>\n",
              "      <th>std</th>\n",
              "      <td>2.560949e+14</td>\n",
              "      <td>7.129575e+04</td>\n",
              "      <td>23.110205</td>\n",
              "      <td>0.297675</td>\n",
              "      <td>0.397921</td>\n",
              "      <td>0.258265</td>\n",
              "      <td>0.171686</td>\n",
              "      <td>0.161543</td>\n",
              "      <td>0.466873</td>\n",
              "    </tr>\n",
              "    <tr>\n",
              "      <th>min</th>\n",
              "      <td>3.921784e+04</td>\n",
              "      <td>5.030230e+06</td>\n",
              "      <td>-1.000000</td>\n",
              "      <td>0.000000</td>\n",
              "      <td>0.000000</td>\n",
              "      <td>0.000000</td>\n",
              "      <td>0.000000</td>\n",
              "      <td>0.000000</td>\n",
              "      <td>0.000000</td>\n",
              "    </tr>\n",
              "    <tr>\n",
              "      <th>25%</th>\n",
              "      <td>4.172614e+12</td>\n",
              "      <td>5.640286e+06</td>\n",
              "      <td>18.000000</td>\n",
              "      <td>0.000000</td>\n",
              "      <td>0.000000</td>\n",
              "      <td>0.000000</td>\n",
              "      <td>0.000000</td>\n",
              "      <td>0.000000</td>\n",
              "      <td>0.000000</td>\n",
              "    </tr>\n",
              "    <tr>\n",
              "      <th>50%</th>\n",
              "      <td>3.173184e+13</td>\n",
              "      <td>5.680573e+06</td>\n",
              "      <td>37.000000</td>\n",
              "      <td>0.000000</td>\n",
              "      <td>0.000000</td>\n",
              "      <td>0.000000</td>\n",
              "      <td>0.000000</td>\n",
              "      <td>0.000000</td>\n",
              "      <td>0.000000</td>\n",
              "    </tr>\n",
              "    <tr>\n",
              "      <th>75%</th>\n",
              "      <td>9.439172e+13</td>\n",
              "      <td>5.725524e+06</td>\n",
              "      <td>55.000000</td>\n",
              "      <td>0.000000</td>\n",
              "      <td>0.000000</td>\n",
              "      <td>0.000000</td>\n",
              "      <td>0.000000</td>\n",
              "      <td>0.000000</td>\n",
              "      <td>1.000000</td>\n",
              "    </tr>\n",
              "    <tr>\n",
              "      <th>max</th>\n",
              "      <td>9.999816e+14</td>\n",
              "      <td>5.790484e+06</td>\n",
              "      <td>115.000000</td>\n",
              "      <td>1.000000</td>\n",
              "      <td>1.000000</td>\n",
              "      <td>1.000000</td>\n",
              "      <td>1.000000</td>\n",
              "      <td>4.000000</td>\n",
              "      <td>1.000000</td>\n",
              "    </tr>\n",
              "  </tbody>\n",
              "</table>\n",
              "</div>"
            ],
            "text/plain": [
              "          PatientId  AppointmentID  ...        Handcap   SMS_received\n",
              "count  1.105270e+05   1.105270e+05  ...  110527.000000  110527.000000\n",
              "mean   1.474963e+14   5.675305e+06  ...       0.022248       0.321026\n",
              "std    2.560949e+14   7.129575e+04  ...       0.161543       0.466873\n",
              "min    3.921784e+04   5.030230e+06  ...       0.000000       0.000000\n",
              "25%    4.172614e+12   5.640286e+06  ...       0.000000       0.000000\n",
              "50%    3.173184e+13   5.680573e+06  ...       0.000000       0.000000\n",
              "75%    9.439172e+13   5.725524e+06  ...       0.000000       1.000000\n",
              "max    9.999816e+14   5.790484e+06  ...       4.000000       1.000000\n",
              "\n",
              "[8 rows x 9 columns]"
            ]
          },
          "metadata": {
            "tags": []
          },
          "execution_count": 116
        }
      ]
    },
    {
      "cell_type": "markdown",
      "metadata": {
        "_uuid": "8bba74469e39b47758ff6e004206a43c17f8a50f",
        "_cell_guid": "37b08d9f-fb87-4769-ba38-dd8022f9d003",
        "id": "B_GxZzuqzmlS"
      },
      "source": [
        "## Number of Rows and Columns"
      ]
    },
    {
      "cell_type": "code",
      "metadata": {
        "_uuid": "e6bd92a49bde29afb80f18098a0f9012a196858d",
        "_cell_guid": "6267f7c1-da0a-413a-9b9b-3349319d7903",
        "execution": {
          "iopub.status.busy": "2021-06-02T12:31:15.568028Z",
          "iopub.execute_input": "2021-06-02T12:31:15.568785Z",
          "iopub.status.idle": "2021-06-02T12:31:15.577936Z",
          "shell.execute_reply.started": "2021-06-02T12:31:15.568731Z",
          "shell.execute_reply": "2021-06-02T12:31:15.576771Z"
        },
        "trusted": true,
        "colab": {
          "base_uri": "https://localhost:8080/"
        },
        "id": "6BGviSyTzmlS",
        "outputId": "94b4cb2a-ed0f-4360-c008-5277601ee646"
      },
      "source": [
        "df.shape"
      ],
      "execution_count": 117,
      "outputs": [
        {
          "output_type": "execute_result",
          "data": {
            "text/plain": [
              "(110527, 14)"
            ]
          },
          "metadata": {
            "tags": []
          },
          "execution_count": 117
        }
      ]
    },
    {
      "cell_type": "markdown",
      "metadata": {
        "_uuid": "0081bc2f4bd2c306507e2f6766edfd9429c575ff",
        "_cell_guid": "8a05a21e-61e5-4bf6-a998-afc041beefaf",
        "id": "sMWnR4Z4zmlT"
      },
      "source": [
        "The original dataset has 110,527 records and 14 features (input variables)"
      ]
    },
    {
      "cell_type": "markdown",
      "metadata": {
        "_uuid": "298d45e0d64e855657fcf1b9cbc34aefcd2ef3df",
        "_cell_guid": "def96bce-a041-49cd-ac8d-d2b9c28a7186",
        "id": "kz-NzmpFzmlU"
      },
      "source": [
        "## Column Names"
      ]
    },
    {
      "cell_type": "code",
      "metadata": {
        "_uuid": "4fe9d89988714b3940d13536e3eb99c9be074870",
        "_cell_guid": "e3543b05-af34-4f7b-b30a-ac3ae3eb05e4",
        "scrolled": true,
        "collapsed": true,
        "jupyter": {
          "outputs_hidden": true
        },
        "colab": {
          "base_uri": "https://localhost:8080/"
        },
        "id": "f9veFfY9zmlU",
        "outputId": "e7e29056-323d-4e48-cf07-980f21a9391c"
      },
      "source": [
        "df.columns"
      ],
      "execution_count": 5,
      "outputs": [
        {
          "output_type": "execute_result",
          "data": {
            "text/plain": [
              "Index(['PatientId', 'AppointmentID', 'Gender', 'ScheduledDay',\n",
              "       'AppointmentDay', 'Age', 'Neighbourhood', 'Scholarship', 'Hipertension',\n",
              "       'Diabetes', 'Alcoholism', 'Handcap', 'SMS_received', 'No-show'],\n",
              "      dtype='object')"
            ]
          },
          "metadata": {
            "tags": []
          },
          "execution_count": 5
        }
      ]
    },
    {
      "cell_type": "markdown",
      "metadata": {
        "_uuid": "1e88e7c19f5fc37dbc6f7731b5679adc5651519a",
        "_cell_guid": "a4e29ad2-2251-458e-b29c-03f375b17486",
        "id": "D7NCTf4bzmlV"
      },
      "source": [
        "## Target Variable\n"
      ]
    },
    {
      "cell_type": "code",
      "metadata": {
        "_uuid": "482a5b0a8de282cd0b93474c4eb111ccb6028015",
        "_cell_guid": "8275a15e-93ef-4a74-8be4-8f6f2b8e9e84",
        "execution": {
          "iopub.status.busy": "2021-06-02T12:32:00.986223Z",
          "iopub.execute_input": "2021-06-02T12:32:00.987030Z",
          "iopub.status.idle": "2021-06-02T12:32:01.023542Z",
          "shell.execute_reply.started": "2021-06-02T12:32:00.986975Z",
          "shell.execute_reply": "2021-06-02T12:32:01.022118Z"
        },
        "trusted": true,
        "colab": {
          "base_uri": "https://localhost:8080/",
          "height": 473
        },
        "id": "-GmavgoNzmlV",
        "outputId": "ff2b3626-74f4-4619-d26b-e164f4889cb2"
      },
      "source": [
        "no_show = df[\"No-show\"].value_counts()\n",
        "print(no_show)\n",
        "\n",
        "Percent_no_show = no_show[\"Yes\"]/ no_show.sum() * 100\n",
        "print(\"Percent who didn't show up to their appointment:\",Percent_no_show )\n",
        "\n",
        "sns.countplot(df['No-show'])\n"
      ],
      "execution_count": 118,
      "outputs": [
        {
          "output_type": "stream",
          "text": [
            "No     88208\n",
            "Yes    22319\n",
            "Name: No-show, dtype: int64\n",
            "Percent who didn't show up to their appointment: 20.193255946510806\n"
          ],
          "name": "stdout"
        },
        {
          "output_type": "stream",
          "text": [
            "/usr/local/lib/python3.7/dist-packages/seaborn/_decorators.py:43: FutureWarning: Pass the following variable as a keyword arg: x. From version 0.12, the only valid positional argument will be `data`, and passing other arguments without an explicit keyword will result in an error or misinterpretation.\n",
            "  FutureWarning\n"
          ],
          "name": "stderr"
        },
        {
          "output_type": "execute_result",
          "data": {
            "text/plain": [
              "<matplotlib.axes._subplots.AxesSubplot at 0x7fddb34a25d0>"
            ]
          },
          "metadata": {
            "tags": []
          },
          "execution_count": 118
        },
        {
          "output_type": "display_data",
          "data": {
            "image/png": "[encoded data removed]",
            "text/plain": [
              "<Figure size 1440x360 with 1 Axes>"
            ]
          },
          "metadata": {
            "tags": [],
            "needs_background": "light"
          }
        }
      ]
    },
    {
      "cell_type": "code",
      "metadata": {
        "id": "K1kI-4xLUvK_"
      },
      "source": [
        ""
      ],
      "execution_count": null,
      "outputs": []
    },
    {
      "cell_type": "markdown",
      "metadata": {
        "_uuid": "697541465b62f69c33149fe1cbe000f26d921cb0",
        "_cell_guid": "c63a63dd-056c-4c74-b184-0a85a9d986d1",
        "id": "gGn4JBF2zmlW"
      },
      "source": [
        "## Recode Target Variable\n",
        "0 =  Did not show up to appointment\n",
        "\n",
        "1 =  Showed up to appointment"
      ]
    },
    {
      "cell_type": "code",
      "metadata": {
        "_uuid": "71706cb81451a64c7a1252b2417ab0ca1e207935",
        "_cell_guid": "aac8b356-2bc9-4773-97b9-31612b47f2c2",
        "execution": {
          "iopub.status.busy": "2021-06-02T12:32:10.068135Z",
          "iopub.execute_input": "2021-06-02T12:32:10.068835Z",
          "iopub.status.idle": "2021-06-02T12:32:10.137234Z",
          "shell.execute_reply.started": "2021-06-02T12:32:10.068789Z",
          "shell.execute_reply": "2021-06-02T12:32:10.136063Z"
        },
        "trusted": true,
        "id": "ctRuoHTczmlX"
      },
      "source": [
        "df['No-show'].replace(\"No\", 0,inplace=True)\n",
        "df['No-show'].replace(\"Yes\", 1,inplace=True)\n"
      ],
      "execution_count": 119,
      "outputs": []
    },
    {
      "cell_type": "markdown",
      "metadata": {
        "id": "hMe5rUQOQbkN"
      },
      "source": [
        "Remove invalid Age"
      ]
    },
    {
      "cell_type": "code",
      "metadata": {
        "id": "pQTeBngGQZMT"
      },
      "source": [
        "\n",
        "df=df[~df[\"Age\"] < 0]\n"
      ],
      "execution_count": 120,
      "outputs": []
    },
    {
      "cell_type": "code",
      "metadata": {
        "id": "pVPTv8zwXm1U"
      },
      "source": [
        ""
      ],
      "execution_count": 120,
      "outputs": []
    },
    {
      "cell_type": "markdown",
      "metadata": {
        "_uuid": "dbad4c2de613e08bcaba488a1f59cf30db3a5190",
        "_cell_guid": "b54a7114-3852-4959-a7e1-2b0e8dc288ce",
        "id": "-ENWo8u1zmlX"
      },
      "source": [
        "## Exploratory Analysis on Features\n"
      ]
    },
    {
      "cell_type": "code",
      "metadata": {
        "_uuid": "acf65d5b2ef8a65ffaf5d760b367c0464bc3ce0e",
        "_cell_guid": "301730d8-5bde-4cee-847a-4faddc2a2289",
        "execution": {
          "iopub.status.busy": "2021-06-02T12:32:13.358510Z",
          "iopub.execute_input": "2021-06-02T12:32:13.359158Z",
          "iopub.status.idle": "2021-06-02T12:32:13.391582Z",
          "shell.execute_reply.started": "2021-06-02T12:32:13.359117Z",
          "shell.execute_reply": "2021-06-02T12:32:13.389781Z"
        },
        "trusted": true,
        "id": "_fP5vzjPzmlY"
      },
      "source": [
        ""
      ],
      "execution_count": 96,
      "outputs": []
    },
    {
      "cell_type": "markdown",
      "metadata": {
        "id": "1ncBzTS7RFo3"
      },
      "source": [
        "General Distribution"
      ]
    },
    {
      "cell_type": "code",
      "metadata": {
        "colab": {
          "base_uri": "https://localhost:8080/",
          "height": 591
        },
        "id": "EdqTrRAHRIRh",
        "outputId": "306fded2-15a4-40be-dedc-6b6a54ea593e"
      },
      "source": [
        "fig, axes = plt.subplots(1, 6, figsize=(20, 5), sharey=True)\n",
        "sns.countplot(df['Gender'],ax=axes[0])\n",
        "axes[0].set_title(\"Gender Distribution\")\n",
        "\n",
        "sns.countplot(df['Scholarship'],ax=axes[1])\n",
        "axes[1].set_title(\"Scholarship Distribution\")\n",
        "\n",
        "sns.countplot(df['Hipertension'],ax=axes[2])\n",
        "axes[2].set_title(\"Hipertension Distribution\")\n",
        "\n",
        "sns.countplot(df['Diabetes'],ax=axes[3])\n",
        "axes[3].set_title(\"Diabetes Distribution\")\n",
        "\n",
        "sns.countplot(df['Alcoholism'],ax=axes[4])\n",
        "axes[4].set_title(\"Alcoholism Distribution\")\n",
        "\n",
        "sns.countplot(df['Handcap'],ax=axes[5])\n",
        "axes[5].set_title(\"Handcap Distribution\")"
      ],
      "execution_count": 121,
      "outputs": [
        {
          "output_type": "stream",
          "text": [
            "/usr/local/lib/python3.7/dist-packages/seaborn/_decorators.py:43: FutureWarning: Pass the following variable as a keyword arg: x. From version 0.12, the only valid positional argument will be `data`, and passing other arguments without an explicit keyword will result in an error or misinterpretation.\n",
            "  FutureWarning\n",
            "/usr/local/lib/python3.7/dist-packages/seaborn/_decorators.py:43: FutureWarning: Pass the following variable as a keyword arg: x. From version 0.12, the only valid positional argument will be `data`, and passing other arguments without an explicit keyword will result in an error or misinterpretation.\n",
            "  FutureWarning\n",
            "/usr/local/lib/python3.7/dist-packages/seaborn/_decorators.py:43: FutureWarning: Pass the following variable as a keyword arg: x. From version 0.12, the only valid positional argument will be `data`, and passing other arguments without an explicit keyword will result in an error or misinterpretation.\n",
            "  FutureWarning\n",
            "/usr/local/lib/python3.7/dist-packages/seaborn/_decorators.py:43: FutureWarning: Pass the following variable as a keyword arg: x. From version 0.12, the only valid positional argument will be `data`, and passing other arguments without an explicit keyword will result in an error or misinterpretation.\n",
            "  FutureWarning\n",
            "/usr/local/lib/python3.7/dist-packages/seaborn/_decorators.py:43: FutureWarning: Pass the following variable as a keyword arg: x. From version 0.12, the only valid positional argument will be `data`, and passing other arguments without an explicit keyword will result in an error or misinterpretation.\n",
            "  FutureWarning\n",
            "/usr/local/lib/python3.7/dist-packages/seaborn/_decorators.py:43: FutureWarning: Pass the following variable as a keyword arg: x. From version 0.12, the only valid positional argument will be `data`, and passing other arguments without an explicit keyword will result in an error or misinterpretation.\n",
            "  FutureWarning\n"
          ],
          "name": "stderr"
        },
        {
          "output_type": "execute_result",
          "data": {
            "text/plain": [
              "Text(0.5, 1.0, 'Handcap Distribution')"
            ]
          },
          "metadata": {
            "tags": []
          },
          "execution_count": 121
        },
        {
          "output_type": "display_data",
          "data": {
            "image/png": "[encoded data removed]",
            "text/plain": [
              "<Figure size 1440x360 with 6 Axes>"
            ]
          },
          "metadata": {
            "tags": [],
            "needs_background": "light"
          }
        }
      ]
    },
    {
      "cell_type": "markdown",
      "metadata": {
        "id": "V4pGWwlcYbtV"
      },
      "source": [
        "Split Age to Bins"
      ]
    },
    {
      "cell_type": "code",
      "metadata": {
        "id": "gKfMS3E_YMid"
      },
      "source": [
        "bins=[-1,0,2,10,20,30,40,50,60,80,100,200]\n",
        "labels=['0-2','2-10','10-20','20-30','30-40','40-50','50-60','60-80','80-100','100+']\n",
        "df['Age_Bins']=pd.cut(df['Age'],bins)"
      ],
      "execution_count": 212,
      "outputs": []
    },
    {
      "cell_type": "code",
      "metadata": {
        "colab": {
          "base_uri": "https://localhost:8080/",
          "height": 266
        },
        "id": "8XVVFQZGhV2Q",
        "outputId": "1f36d65c-caa9-4a87-833f-6cdf9b3deedf"
      },
      "source": [
        "df.loc[df['Age']>100,['Age','Age_Bins']]"
      ],
      "execution_count": 213,
      "outputs": [
        {
          "output_type": "execute_result",
          "data": {
            "text/html": [
              "<div>\n",
              "<style scoped>\n",
              "    .dataframe tbody tr th:only-of-type {\n",
              "        vertical-align: middle;\n",
              "    }\n",
              "\n",
              "    .dataframe tbody tr th {\n",
              "        vertical-align: top;\n",
              "    }\n",
              "\n",
              "    .dataframe thead th {\n",
              "        text-align: right;\n",
              "    }\n",
              "</style>\n",
              "<table border=\"1\" class=\"dataframe\">\n",
              "  <thead>\n",
              "    <tr style=\"text-align: right;\">\n",
              "      <th></th>\n",
              "      <th>Age</th>\n",
              "      <th>Age_Bins</th>\n",
              "    </tr>\n",
              "  </thead>\n",
              "  <tbody>\n",
              "    <tr>\n",
              "      <th>58014</th>\n",
              "      <td>102</td>\n",
              "      <td>(100, 200]</td>\n",
              "    </tr>\n",
              "    <tr>\n",
              "      <th>63912</th>\n",
              "      <td>115</td>\n",
              "      <td>(100, 200]</td>\n",
              "    </tr>\n",
              "    <tr>\n",
              "      <th>63915</th>\n",
              "      <td>115</td>\n",
              "      <td>(100, 200]</td>\n",
              "    </tr>\n",
              "    <tr>\n",
              "      <th>68127</th>\n",
              "      <td>115</td>\n",
              "      <td>(100, 200]</td>\n",
              "    </tr>\n",
              "    <tr>\n",
              "      <th>76284</th>\n",
              "      <td>115</td>\n",
              "      <td>(100, 200]</td>\n",
              "    </tr>\n",
              "    <tr>\n",
              "      <th>90372</th>\n",
              "      <td>102</td>\n",
              "      <td>(100, 200]</td>\n",
              "    </tr>\n",
              "    <tr>\n",
              "      <th>97666</th>\n",
              "      <td>115</td>\n",
              "      <td>(100, 200]</td>\n",
              "    </tr>\n",
              "  </tbody>\n",
              "</table>\n",
              "</div>"
            ],
            "text/plain": [
              "       Age    Age_Bins\n",
              "58014  102  (100, 200]\n",
              "63912  115  (100, 200]\n",
              "63915  115  (100, 200]\n",
              "68127  115  (100, 200]\n",
              "76284  115  (100, 200]\n",
              "90372  102  (100, 200]\n",
              "97666  115  (100, 200]"
            ]
          },
          "metadata": {
            "tags": []
          },
          "execution_count": 213
        }
      ]
    },
    {
      "cell_type": "markdown",
      "metadata": {
        "id": "KWbNmoorjFy0"
      },
      "source": [
        "Age Distribution"
      ]
    },
    {
      "cell_type": "code",
      "metadata": {
        "colab": {
          "base_uri": "https://localhost:8080/",
          "height": 406
        },
        "id": "R4ym2YObi2Zk",
        "outputId": "cbd45ee9-7ee8-4dbd-b558-35c6a10adb41"
      },
      "source": [
        "plt.rcParams['figure.figsize']=20,5\n",
        "sns.countplot(df[\"Age_Bins\"])"
      ],
      "execution_count": 214,
      "outputs": [
        {
          "output_type": "stream",
          "text": [
            "/usr/local/lib/python3.7/dist-packages/seaborn/_decorators.py:43: FutureWarning: Pass the following variable as a keyword arg: x. From version 0.12, the only valid positional argument will be `data`, and passing other arguments without an explicit keyword will result in an error or misinterpretation.\n",
            "  FutureWarning\n"
          ],
          "name": "stderr"
        },
        {
          "output_type": "execute_result",
          "data": {
            "text/plain": [
              "<matplotlib.axes._subplots.AxesSubplot at 0x7fddb0e064d0>"
            ]
          },
          "metadata": {
            "tags": []
          },
          "execution_count": 214
        },
        {
          "output_type": "display_data",
          "data": {
            "image/png": "[encoded data removed]",
            "text/plain": [
              "<Figure size 1440x360 with 1 Axes>"
            ]
          },
          "metadata": {
            "tags": [],
            "needs_background": "light"
          }
        }
      ]
    },
    {
      "cell_type": "markdown",
      "metadata": {
        "id": "_q19UIZDYXhJ"
      },
      "source": [
        "No Show vs Age"
      ]
    },
    {
      "cell_type": "code",
      "metadata": {
        "colab": {
          "base_uri": "https://localhost:8080/",
          "height": 352
        },
        "id": "trKUFPIWTPFi",
        "outputId": "e712e484-bcd7-4ca4-9152-a596ce1819e0"
      },
      "source": [
        "plt.rcParams['figure.figsize']=20,5\n",
        "sns.barplot(y=\"No-show\", x=\"Age_Bins\", data=df )"
      ],
      "execution_count": 215,
      "outputs": [
        {
          "output_type": "execute_result",
          "data": {
            "text/plain": [
              "<matplotlib.axes._subplots.AxesSubplot at 0x7fddb2507f90>"
            ]
          },
          "metadata": {
            "tags": []
          },
          "execution_count": 215
        },
        {
          "output_type": "display_data",
          "data": {
            "image/png": "[encoded data removed]",
            "text/plain": [
              "<Figure size 1440x360 with 1 Axes>"
            ]
          },
          "metadata": {
            "tags": [],
            "needs_background": "light"
          }
        }
      ]
    },
    {
      "cell_type": "markdown",
      "metadata": {
        "id": "_f7WqjrUdjA0"
      },
      "source": [
        "Handicap"
      ]
    },
    {
      "cell_type": "code",
      "metadata": {
        "id": "IitAWqCUdiB6"
      },
      "source": [
        "#Convert to Categorical\n",
        "# NOte: Run one time only\n",
        "\n",
        "\n",
        "\n",
        "df['Handcap'] = pd.Categorical(df['Handcap'])\n",
        "#Convert to Dummy Variables\n",
        "Handicap = pd.get_dummies(df['Handcap'], prefix = 'Handicap')\n",
        "df = pd.concat([df, Handicap], axis=1)\n"
      ],
      "execution_count": 124,
      "outputs": []
    },
    {
      "cell_type": "code",
      "metadata": {
        "colab": {
          "base_uri": "https://localhost:8080/"
        },
        "id": "j3JLg_e7diIg",
        "outputId": "7667f14c-c6d8-418c-c62e-d32dff351911"
      },
      "source": [
        "## See how each type of handicap affects whether a patient will show up to an appointment \n",
        "handicaps = [\"Handicap_1\", \"Handicap_2\", \"Handicap_3\", \"Handicap_4\"]\n",
        "for h in handicaps:\n",
        "    print(df.groupby(h)['No-show'].mean())\n",
        "    "
      ],
      "execution_count": 126,
      "outputs": [
        {
          "output_type": "stream",
          "text": [
            "Handicap_1\n",
            "0    0.202362\n",
            "1    0.179236\n",
            "Name: No-show, dtype: float64\n",
            "Handicap_2\n",
            "0    0.201934\n",
            "1    0.202186\n",
            "Name: No-show, dtype: float64\n",
            "Handicap_3\n",
            "0    0.201931\n",
            "1    0.230769\n",
            "Name: No-show, dtype: float64\n",
            "Handicap_4\n",
            "0    0.201931\n",
            "1    0.333333\n",
            "Name: No-show, dtype: float64\n"
          ],
          "name": "stdout"
        }
      ]
    },
    {
      "cell_type": "code",
      "metadata": {
        "colab": {
          "base_uri": "https://localhost:8080/",
          "height": 405
        },
        "id": "6N1598nydiP5",
        "outputId": "7d0cc4ed-4235-48fb-a436-1bddad530783"
      },
      "source": [
        "sns.barplot(df['Handcap'],y=df['No-show'])"
      ],
      "execution_count": 127,
      "outputs": [
        {
          "output_type": "stream",
          "text": [
            "/usr/local/lib/python3.7/dist-packages/seaborn/_decorators.py:43: FutureWarning: Pass the following variable as a keyword arg: x. From version 0.12, the only valid positional argument will be `data`, and passing other arguments without an explicit keyword will result in an error or misinterpretation.\n",
            "  FutureWarning\n"
          ],
          "name": "stderr"
        },
        {
          "output_type": "execute_result",
          "data": {
            "text/plain": [
              "<matplotlib.axes._subplots.AxesSubplot at 0x7fddb4bf9f90>"
            ]
          },
          "metadata": {
            "tags": []
          },
          "execution_count": 127
        },
        {
          "output_type": "display_data",
          "data": {
            "image/png": "[encoded data removed]",
            "text/plain": [
              "<Figure size 1440x360 with 1 Axes>"
            ]
          },
          "metadata": {
            "tags": [],
            "needs_background": "light"
          }
        }
      ]
    },
    {
      "cell_type": "code",
      "metadata": {
        "colab": {
          "base_uri": "https://localhost:8080/",
          "height": 48
        },
        "id": "lJTOGxZZe1WQ",
        "outputId": "0777e074-1c0c-4587-afb6-d4488c46323a"
      },
      "source": [
        "df.loc[df.Age_Bins.isnull()==True,['Age','Age_Bins']].head(100)\n"
      ],
      "execution_count": 176,
      "outputs": [
        {
          "output_type": "execute_result",
          "data": {
            "text/html": [
              "<div>\n",
              "<style scoped>\n",
              "    .dataframe tbody tr th:only-of-type {\n",
              "        vertical-align: middle;\n",
              "    }\n",
              "\n",
              "    .dataframe tbody tr th {\n",
              "        vertical-align: top;\n",
              "    }\n",
              "\n",
              "    .dataframe thead th {\n",
              "        text-align: right;\n",
              "    }\n",
              "</style>\n",
              "<table border=\"1\" class=\"dataframe\">\n",
              "  <thead>\n",
              "    <tr style=\"text-align: right;\">\n",
              "      <th></th>\n",
              "      <th>Age</th>\n",
              "      <th>Age_Bins</th>\n",
              "    </tr>\n",
              "  </thead>\n",
              "  <tbody>\n",
              "  </tbody>\n",
              "</table>\n",
              "</div>"
            ],
            "text/plain": [
              "Empty DataFrame\n",
              "Columns: [Age, Age_Bins]\n",
              "Index: []"
            ]
          },
          "metadata": {
            "tags": []
          },
          "execution_count": 176
        }
      ]
    },
    {
      "cell_type": "markdown",
      "metadata": {
        "id": "OtdpRt-7ehKl"
      },
      "source": [
        "Wait Days before appointment"
      ]
    },
    {
      "cell_type": "code",
      "metadata": {
        "id": "8fTXVkrVlTpO"
      },
      "source": [
        "df['AppointmentDateTime']=df['AppointmentDay'].str[:-1].str.replace(\"T\",\" \")\n",
        "df['ScheduledDateTime']=df['ScheduledDay'].str[:-1].str.replace(\"T\",\" \")"
      ],
      "execution_count": null,
      "outputs": []
    },
    {
      "cell_type": "code",
      "metadata": {
        "id": "jcwZNOTDpdJL"
      },
      "source": [
        "df['AppointmentDateTime']=pd.to_datetime(df['AppointmentDateTime'])\n",
        "df['ScheduledDateTime']=pd.to_datetime(df['ScheduledDateTime'])"
      ],
      "execution_count": null,
      "outputs": []
    },
    {
      "cell_type": "code",
      "metadata": {
        "colab": {
          "base_uri": "https://localhost:8080/"
        },
        "id": "dPRIHECIlVUm",
        "outputId": "d8f08014-ffba-40a0-c795-97282e2cca8b"
      },
      "source": [
        "#df[['AppointmentDateTime','ScheduledDateTime']]\n",
        "df.dtypes"
      ],
      "execution_count": 194,
      "outputs": [
        {
          "output_type": "execute_result",
          "data": {
            "text/plain": [
              "PatientId                     float64\n",
              "AppointmentID                   int64\n",
              "Gender                         object\n",
              "ScheduledDay                   object\n",
              "AppointmentDay                 object\n",
              "Age                             int64\n",
              "Neighbourhood                  object\n",
              "Scholarship                     int64\n",
              "Hipertension                    int64\n",
              "Diabetes                        int64\n",
              "Alcoholism                      int64\n",
              "Handcap                      category\n",
              "SMS_received                    int64\n",
              "No-show                         int64\n",
              "Age_Bins                     category\n",
              "Handicap_0                      uint8\n",
              "Handicap_1                      uint8\n",
              "Handicap_2                      uint8\n",
              "Handicap_3                      uint8\n",
              "Handicap_4                      uint8\n",
              "ScheduledDateTime      datetime64[ns]\n",
              "AppointmentDateTime    datetime64[ns]\n",
              "dtype: object"
            ]
          },
          "metadata": {
            "tags": []
          },
          "execution_count": 194
        }
      ]
    },
    {
      "cell_type": "code",
      "metadata": {
        "id": "h-2whwWjdiYy"
      },
      "source": [
        "df[\"Wait_days\"] = (df[\"AppointmentDateTime\"] - df[\"ScheduledDateTime\"]).dt.days\n",
        "df[['Wait_days','AppointmentDateTime','ScheduledDateTime']]\n",
        "df['ScheduledTime']=df[\"ScheduledDateTime\"].dt.time\n",
        "df['ScheduledDayOfWeek']=df[\"ScheduledDateTime\"].dt.day_name()"
      ],
      "execution_count": 250,
      "outputs": []
    },
    {
      "cell_type": "code",
      "metadata": {
        "colab": {
          "base_uri": "https://localhost:8080/"
        },
        "id": "5_3mENvRxqmh",
        "outputId": "ac72c3e7-fc84-4cc3-ff00-c26469628bf7"
      },
      "source": [
        ""
      ],
      "execution_count": 249,
      "outputs": [
        {
          "output_type": "execute_result",
          "data": {
            "text/plain": [
              "0            Friday\n",
              "1            Friday\n",
              "2            Friday\n",
              "3            Friday\n",
              "4            Friday\n",
              "            ...    \n",
              "110522      Tuesday\n",
              "110523      Tuesday\n",
              "110524    Wednesday\n",
              "110525    Wednesday\n",
              "110526    Wednesday\n",
              "Name: ScheduledDateTime, Length: 110526, dtype: object"
            ]
          },
          "metadata": {
            "tags": []
          },
          "execution_count": 249
        }
      ]
    },
    {
      "cell_type": "markdown",
      "metadata": {
        "id": "h22djLUVuI1J"
      },
      "source": [
        "Binning Wait Days"
      ]
    },
    {
      "cell_type": "code",
      "metadata": {
        "id": "BD5P9SWHuK-k"
      },
      "source": [
        "bins=[-1,0,10,20,30,45,60,75,100,120,1000]\n",
        "\n",
        "df['Wait_days_Bins']=pd.cut(df['Wait_days'],bins)"
      ],
      "execution_count": 236,
      "outputs": []
    },
    {
      "cell_type": "markdown",
      "metadata": {
        "id": "9aOiNtTxt2_5"
      },
      "source": [
        "Wait Days between Scheduled and Appointment "
      ]
    },
    {
      "cell_type": "code",
      "metadata": {
        "colab": {
          "base_uri": "https://localhost:8080/",
          "height": 177
        },
        "id": "uLfdbNCGt6Wl",
        "outputId": "920b0a83-306a-4b3c-aeb2-b0ea56685774"
      },
      "source": [
        "\n",
        "plt.rcParams['figure.figsize']=50,5\n",
        "sns.barplot(y=\"No-show\", x=\"Age_Bins\", hue=\"Wait_days_Bins\",data=df )"
      ],
      "execution_count": 237,
      "outputs": [
        {
          "output_type": "execute_result",
          "data": {
            "text/plain": [
              "<matplotlib.axes._subplots.AxesSubplot at 0x7fddaf3312d0>"
            ]
          },
          "metadata": {
            "tags": []
          },
          "execution_count": 237
        },
        {
          "output_type": "display_data",
          "data": {
            "image/png": "[encoded data removed]",
            "text/plain": [
              "<Figure size 3600x360 with 1 Axes>"
            ]
          },
          "metadata": {
            "tags": [],
            "needs_background": "light"
          }
        }
      ]
    },
    {
      "cell_type": "markdown",
      "metadata": {
        "id": "G6Grd9bZvHcX"
      },
      "source": [
        "Wait Days vs Gender vs No Show Rate"
      ]
    },
    {
      "cell_type": "code",
      "metadata": {
        "colab": {
          "base_uri": "https://localhost:8080/",
          "height": 177
        },
        "id": "KlescWnPt6fw",
        "outputId": "ccb76d61-5f55-4ee2-e780-f27d967c7ae2"
      },
      "source": [
        "\n",
        "plt.rcParams['figure.figsize']=50,5\n",
        "sns.barplot(y=\"No-show\", x=\"Wait_days_Bins\", hue=\"Gender\",data=df )"
      ],
      "execution_count": 238,
      "outputs": [
        {
          "output_type": "execute_result",
          "data": {
            "text/plain": [
              "<matplotlib.axes._subplots.AxesSubplot at 0x7fddae6dc150>"
            ]
          },
          "metadata": {
            "tags": []
          },
          "execution_count": 238
        },
        {
          "output_type": "display_data",
          "data": {
            "image/png": "[encoded data removed]",
            "text/plain": [
              "<Figure size 3600x360 with 1 Axes>"
            ]
          },
          "metadata": {
            "tags": [],
            "needs_background": "light"
          }
        }
      ]
    },
    {
      "cell_type": "markdown",
      "metadata": {
        "id": "Kzj2zHNqv5kw"
      },
      "source": [
        "Visiting Days vs No-Show Rate vs Age"
      ]
    },
    {
      "cell_type": "code",
      "metadata": {
        "colab": {
          "base_uri": "https://localhost:8080/",
          "height": 176
        },
        "id": "H2tHIVmPv87P",
        "outputId": "dcdc3840-cc18-4830-a57d-8d161bf6d2af"
      },
      "source": [
        "plt.rcParams['figure.figsize']=50,5\n",
        "sns.barplot(y=\"No-show\", hue=\"Age_Bins\", x=\"ScheduledDayOfWeek\",data=df )"
      ],
      "execution_count": 254,
      "outputs": [
        {
          "output_type": "execute_result",
          "data": {
            "text/plain": [
              "<matplotlib.axes._subplots.AxesSubplot at 0x7fddad8f6a10>"
            ]
          },
          "metadata": {
            "tags": []
          },
          "execution_count": 254
        },
        {
          "output_type": "display_data",
          "data": {
            "image/png": "[encoded data removed]",
            "text/plain": [
              "<Figure size 3600x360 with 1 Axes>"
            ]
          },
          "metadata": {
            "tags": [],
            "needs_background": "light"
          }
        }
      ]
    },
    {
      "cell_type": "code",
      "metadata": {
        "colab": {
          "base_uri": "https://localhost:8080/"
        },
        "id": "3FoFtyf3qSPr",
        "outputId": "20dd330b-2d08-48c7-ecaa-cb8c737726ef"
      },
      "source": [
        "df['ScheduledTime']=df[\"ScheduledDateTime\"].dt.time\n",
        "df['ScheduledHrs']=df[\"ScheduledDateTime\"].dt.hour\n"
      ],
      "execution_count": 211,
      "outputs": [
        {
          "output_type": "execute_result",
          "data": {
            "text/plain": [
              "0         18\n",
              "1         16\n",
              "2         16\n",
              "3         17\n",
              "4         16\n",
              "          ..\n",
              "110522     9\n",
              "110523     7\n",
              "110524    16\n",
              "110525    15\n",
              "110526    13\n",
              "Name: ScheduledHrs, Length: 110526, dtype: int64"
            ]
          },
          "metadata": {
            "tags": []
          },
          "execution_count": 211
        }
      ]
    },
    {
      "cell_type": "code",
      "metadata": {
        "id": "STgm8d28qt_i"
      },
      "source": [
        "bins=[-1,0,2,4,6,8,10,12,14,16,18,20,22,24]\n",
        "#labels=['0-2','2-5','5-8','20-30','30-40','40-50','50-60','60-80','80-100','100+']\n",
        "df['Scheduled_Hr_Bins']=pd.cut(df['ScheduledHrs'],bins)"
      ],
      "execution_count": 220,
      "outputs": []
    },
    {
      "cell_type": "code",
      "metadata": {
        "colab": {
          "base_uri": "https://localhost:8080/",
          "height": 419
        },
        "id": "fsrd7AmCqft7",
        "outputId": "398f966f-ccde-4d12-d831-c7066c07fa1f"
      },
      "source": [
        "df[['Scheduled_Hr_Bins','ScheduledHrs','ScheduledTime']]"
      ],
      "execution_count": 221,
      "outputs": [
        {
          "output_type": "execute_result",
          "data": {
            "text/html": [
              "<div>\n",
              "<style scoped>\n",
              "    .dataframe tbody tr th:only-of-type {\n",
              "        vertical-align: middle;\n",
              "    }\n",
              "\n",
              "    .dataframe tbody tr th {\n",
              "        vertical-align: top;\n",
              "    }\n",
              "\n",
              "    .dataframe thead th {\n",
              "        text-align: right;\n",
              "    }\n",
              "</style>\n",
              "<table border=\"1\" class=\"dataframe\">\n",
              "  <thead>\n",
              "    <tr style=\"text-align: right;\">\n",
              "      <th></th>\n",
              "      <th>Scheduled_Hr_Bins</th>\n",
              "      <th>ScheduledHrs</th>\n",
              "      <th>ScheduledTime</th>\n",
              "    </tr>\n",
              "  </thead>\n",
              "  <tbody>\n",
              "    <tr>\n",
              "      <th>0</th>\n",
              "      <td>(16, 18]</td>\n",
              "      <td>18</td>\n",
              "      <td>18:38:08</td>\n",
              "    </tr>\n",
              "    <tr>\n",
              "      <th>1</th>\n",
              "      <td>(14, 16]</td>\n",
              "      <td>16</td>\n",
              "      <td>16:08:27</td>\n",
              "    </tr>\n",
              "    <tr>\n",
              "      <th>2</th>\n",
              "      <td>(14, 16]</td>\n",
              "      <td>16</td>\n",
              "      <td>16:19:04</td>\n",
              "    </tr>\n",
              "    <tr>\n",
              "      <th>3</th>\n",
              "      <td>(16, 18]</td>\n",
              "      <td>17</td>\n",
              "      <td>17:29:31</td>\n",
              "    </tr>\n",
              "    <tr>\n",
              "      <th>4</th>\n",
              "      <td>(14, 16]</td>\n",
              "      <td>16</td>\n",
              "      <td>16:07:23</td>\n",
              "    </tr>\n",
              "    <tr>\n",
              "      <th>...</th>\n",
              "      <td>...</td>\n",
              "      <td>...</td>\n",
              "      <td>...</td>\n",
              "    </tr>\n",
              "    <tr>\n",
              "      <th>110522</th>\n",
              "      <td>(8, 10]</td>\n",
              "      <td>9</td>\n",
              "      <td>09:15:35</td>\n",
              "    </tr>\n",
              "    <tr>\n",
              "      <th>110523</th>\n",
              "      <td>(6, 8]</td>\n",
              "      <td>7</td>\n",
              "      <td>07:27:33</td>\n",
              "    </tr>\n",
              "    <tr>\n",
              "      <th>110524</th>\n",
              "      <td>(14, 16]</td>\n",
              "      <td>16</td>\n",
              "      <td>16:03:52</td>\n",
              "    </tr>\n",
              "    <tr>\n",
              "      <th>110525</th>\n",
              "      <td>(14, 16]</td>\n",
              "      <td>15</td>\n",
              "      <td>15:09:23</td>\n",
              "    </tr>\n",
              "    <tr>\n",
              "      <th>110526</th>\n",
              "      <td>(12, 14]</td>\n",
              "      <td>13</td>\n",
              "      <td>13:30:56</td>\n",
              "    </tr>\n",
              "  </tbody>\n",
              "</table>\n",
              "<p>110526 rows × 3 columns</p>\n",
              "</div>"
            ],
            "text/plain": [
              "       Scheduled_Hr_Bins  ScheduledHrs ScheduledTime\n",
              "0               (16, 18]            18      18:38:08\n",
              "1               (14, 16]            16      16:08:27\n",
              "2               (14, 16]            16      16:19:04\n",
              "3               (16, 18]            17      17:29:31\n",
              "4               (14, 16]            16      16:07:23\n",
              "...                  ...           ...           ...\n",
              "110522           (8, 10]             9      09:15:35\n",
              "110523            (6, 8]             7      07:27:33\n",
              "110524          (14, 16]            16      16:03:52\n",
              "110525          (14, 16]            15      15:09:23\n",
              "110526          (12, 14]            13      13:30:56\n",
              "\n",
              "[110526 rows x 3 columns]"
            ]
          },
          "metadata": {
            "tags": []
          },
          "execution_count": 221
        }
      ]
    },
    {
      "cell_type": "markdown",
      "metadata": {
        "id": "vO1AVBBQsR4Y"
      },
      "source": [
        "Plotting Peak Scheduled Hours"
      ]
    },
    {
      "cell_type": "code",
      "metadata": {
        "colab": {
          "base_uri": "https://localhost:8080/",
          "height": 406
        },
        "id": "_FnZCoazsJOv",
        "outputId": "aa12f56a-bdc4-4f05-f664-72c41d8d1d0b"
      },
      "source": [
        "sns.countplot(df['Scheduled_Hr_Bins'])"
      ],
      "execution_count": 223,
      "outputs": [
        {
          "output_type": "stream",
          "text": [
            "/usr/local/lib/python3.7/dist-packages/seaborn/_decorators.py:43: FutureWarning: Pass the following variable as a keyword arg: x. From version 0.12, the only valid positional argument will be `data`, and passing other arguments without an explicit keyword will result in an error or misinterpretation.\n",
            "  FutureWarning\n"
          ],
          "name": "stderr"
        },
        {
          "output_type": "execute_result",
          "data": {
            "text/plain": [
              "<matplotlib.axes._subplots.AxesSubplot at 0x7fddb0356f10>"
            ]
          },
          "metadata": {
            "tags": []
          },
          "execution_count": 223
        },
        {
          "output_type": "display_data",
          "data": {
            "image/png": "[encoded data removed]",
            "text/plain": [
              "<Figure size 1440x360 with 1 Axes>"
            ]
          },
          "metadata": {
            "tags": [],
            "needs_background": "light"
          }
        }
      ]
    },
    {
      "cell_type": "markdown",
      "metadata": {
        "id": "cKcTgqZ1shvM"
      },
      "source": [
        "Scheduled Hours vs No-Show Rate vs Age"
      ]
    },
    {
      "cell_type": "code",
      "metadata": {
        "colab": {
          "base_uri": "https://localhost:8080/",
          "height": 177
        },
        "id": "kzjGSTexsm43",
        "outputId": "7b8d3b99-fe56-4180-cd15-0366ecaa4e4e"
      },
      "source": [
        "plt.rcParams['figure.figsize']=50,5\n",
        "sns.barplot(y=\"No-show\", x=\"Scheduled_Hr_Bins\", hue=\"Age_Bins\",data=df )"
      ],
      "execution_count": 227,
      "outputs": [
        {
          "output_type": "execute_result",
          "data": {
            "text/plain": [
              "<matplotlib.axes._subplots.AxesSubplot at 0x7fddb43a2a50>"
            ]
          },
          "metadata": {
            "tags": []
          },
          "execution_count": 227
        },
        {
          "output_type": "display_data",
          "data": {
            "image/png": "[encoded data removed]",
            "text/plain": [
              "<Figure size 3600x360 with 1 Axes>"
            ]
          },
          "metadata": {
            "tags": [],
            "needs_background": "light"
          }
        }
      ]
    },
    {
      "cell_type": "markdown",
      "metadata": {
        "id": "6ZANTZn7taee"
      },
      "source": [
        "No-Show Rate vs Scheduled Hours "
      ]
    },
    {
      "cell_type": "code",
      "metadata": {
        "colab": {
          "base_uri": "https://localhost:8080/",
          "height": 352
        },
        "id": "78RQLUaZtZgz",
        "outputId": "e655a326-545b-40fb-ce6a-a5175378878f"
      },
      "source": [
        "plt.rcParams['figure.figsize']=20,5\n",
        "sns.barplot(y=\"No-show\", x=\"Scheduled_Hr_Bins\",data=df )"
      ],
      "execution_count": 231,
      "outputs": [
        {
          "output_type": "execute_result",
          "data": {
            "text/plain": [
              "<matplotlib.axes._subplots.AxesSubplot at 0x7fddaf4df7d0>"
            ]
          },
          "metadata": {
            "tags": []
          },
          "execution_count": 231
        },
        {
          "output_type": "display_data",
          "data": {
            "image/png": "[encoded data removed]",
            "text/plain": [
              "<Figure size 1440x360 with 1 Axes>"
            ]
          },
          "metadata": {
            "tags": [],
            "needs_background": "light"
          }
        }
      ]
    },
    {
      "cell_type": "markdown",
      "metadata": {
        "id": "mtydt3CPqKw0"
      },
      "source": [
        ""
      ]
    },
    {
      "cell_type": "code",
      "metadata": {
        "id": "sy053ynWdige"
      },
      "source": [
        ""
      ],
      "execution_count": 178,
      "outputs": []
    },
    {
      "cell_type": "markdown",
      "metadata": {
        "id": "-jbEL6cLdIkr"
      },
      "source": [
        "Age vs No SHow vs Handicap"
      ]
    },
    {
      "cell_type": "code",
      "metadata": {
        "colab": {
          "base_uri": "https://localhost:8080/",
          "height": 352
        },
        "id": "dDftHZj0REIk",
        "outputId": "44783535-6e94-4bd0-fca9-cab6f15e3790"
      },
      "source": [
        "plt.rcParams['figure.figsize']=20,5\n",
        "sns.barplot(y=\"No-show\", x=\"Age_Bins\", hue=\"Handcap\",data=df )"
      ],
      "execution_count": 216,
      "outputs": [
        {
          "output_type": "execute_result",
          "data": {
            "text/plain": [
              "<matplotlib.axes._subplots.AxesSubplot at 0x7fddb05df1d0>"
            ]
          },
          "metadata": {
            "tags": []
          },
          "execution_count": 216
        },
        {
          "output_type": "display_data",
          "data": {
            "image/png": "[encoded data removed]",
            "text/plain": [
              "<Figure size 1440x360 with 1 Axes>"
            ]
          },
          "metadata": {
            "tags": [],
            "needs_background": "light"
          }
        }
      ]
    },
    {
      "cell_type": "code",
      "metadata": {
        "id": "42P_y-xTR-M9"
      },
      "source": [
        "plt.rcParams['figure.figsize']=20,5\n",
        "sns.barplot(y=\"No-show\", x=\"Age_Bins\", data=df )"
      ],
      "execution_count": null,
      "outputs": []
    },
    {
      "cell_type": "markdown",
      "metadata": {
        "_uuid": "6585b5cf1db8ac20a1ef0f18021fd1b1d319a15c",
        "_cell_guid": "7f003cf3-0601-4259-beb3-6fba15617a5b",
        "id": "cos4baMozmlZ"
      },
      "source": [
        "## Seeing how each feature relates to the target variable.\n"
      ]
    },
    {
      "cell_type": "code",
      "metadata": {
        "_uuid": "24abf25501f7acdee0e953e2cdcd1d518333b2e2",
        "_cell_guid": "3b3e407a-4136-4b7d-b13c-3ea58bb44c26",
        "execution": {
          "iopub.status.busy": "2021-06-02T12:32:26.520092Z",
          "iopub.execute_input": "2021-06-02T12:32:26.520548Z",
          "iopub.status.idle": "2021-06-02T12:32:26.559504Z",
          "shell.execute_reply.started": "2021-06-02T12:32:26.520509Z",
          "shell.execute_reply": "2021-06-02T12:32:26.558071Z"
        },
        "trusted": true,
        "colab": {
          "base_uri": "https://localhost:8080/",
          "height": 659
        },
        "id": "zWeBl8wTzmla",
        "outputId": "7267cdda-ee13-46b7-8929-86fe92cb72e7"
      },
      "source": [
        "Exploratory_Analysis = ['Gender','Hipertension','Alcoholism','Diabetes']\n",
        "for r in Exploratory_Analysis :\n",
        "    print(df.groupby(r)['No-show'].mean())\n",
        "\n",
        "\n",
        "fig, axes = plt.subplots(1, 4, figsize=(20, 5), sharey=True)\n",
        "fig.suptitle('No-Show plots')\n",
        "\n",
        "# Gender\n",
        "sns.barplot(ax=axes[0], x=df.Gender, y=df['No-show'])\n",
        "axes[0].set_title(\"Gender vs No-Show\")\n",
        "\n",
        "# Hipertension\n",
        "sns.barplot(ax=axes[1], x=df.Hipertension, y=df['No-show'])\n",
        "axes[1].set_title(\"Hipertension vs No-Show\")\n",
        "\n",
        "# Alcoholism\n",
        "sns.barplot(ax=axes[2], x=df.Alcoholism, y=df['No-show'])\n",
        "axes[2].set_title(\"Alcoholism vs No-Show\")\n",
        "\n",
        "# Diabetes\n",
        "sns.barplot(ax=axes[3], x=df.Diabetes, y=df['No-show'])\n",
        "axes[3].set_title(\"Diabetes vs No-Show\")\n",
        "\n",
        "\n",
        "\n",
        "#df.groupby('Hipertension')['No-show'].mean().plot.bar()\n",
        "#df.groupby('Alcoholism')['No-show'].mean().plot.bar()\n",
        "#df.groupby('Diabetes')['No-show'].mean().plot.bar()\n",
        "#df.groupby('Gender')['No-show'].mean().plot.bar()\n",
        "#df.groupby(r)['No-show'].mean().plot.bar()"
      ],
      "execution_count": 97,
      "outputs": [
        {
          "output_type": "stream",
          "text": [
            "Gender\n",
            "F    0.203149\n",
            "M    0.199679\n",
            "Name: No-show, dtype: float64\n",
            "Hipertension\n",
            "0    0.209039\n",
            "1    0.173020\n",
            "Name: No-show, dtype: float64\n",
            "Alcoholism\n",
            "0    0.201948\n",
            "1    0.201488\n",
            "Name: No-show, dtype: float64\n",
            "Diabetes\n",
            "0    0.203630\n",
            "1    0.180033\n",
            "Name: No-show, dtype: float64\n"
          ],
          "name": "stdout"
        },
        {
          "output_type": "execute_result",
          "data": {
            "text/plain": [
              "Text(0.5, 1.0, 'Diabetes vs No-Show')"
            ]
          },
          "metadata": {
            "tags": []
          },
          "execution_count": 97
        },
        {
          "output_type": "display_data",
          "data": {
            "image/png": "[encoded data removed]",
            "text/plain": [
              "<Figure size 1440x360 with 4 Axes>"
            ]
          },
          "metadata": {
            "tags": [],
            "needs_background": "light"
          }
        }
      ]
    },
    {
      "cell_type": "markdown",
      "metadata": {
        "_uuid": "1eed1928ae6eebc99d63c3b8cbbb087a2b832893",
        "_cell_guid": "a62fe849-31e3-4647-aca4-5390bd1fa5f4",
        "id": "Cd3FT5ZGzmlb"
      },
      "source": [
        "As shown above, gender does not seem to affect whether a person shows up to an appointment or not, as both males and females don't show up to approximately 20 percent of their appointments. Diabetes and Alcoholism don't seem to affect no-shows as well.\n",
        "\n",
        "Hypertension seems to have a small affect, as a patient who has hypertension is 3% more likely to show up than a patient who doesn't have hyper tension."
      ]
    },
    {
      "cell_type": "markdown",
      "metadata": {
        "_uuid": "337e745a12d614c3c40f9ba264451a69764af267",
        "_cell_guid": "d002a69d-39bb-4372-b677-2b3aa116e916",
        "id": "9TsPCGqpzmlb"
      },
      "source": [
        ""
      ]
    },
    {
      "cell_type": "code",
      "metadata": {
        "_uuid": "206d803c750207a29dd0ba9b3a8122c0c5c8159a",
        "_cell_guid": "f550716b-d42b-46cf-8055-5e59bab9ca6b",
        "execution": {
          "iopub.status.busy": "2021-06-02T12:32:37.070909Z",
          "iopub.execute_input": "2021-06-02T12:32:37.071344Z",
          "iopub.status.idle": "2021-06-02T12:32:37.117825Z",
          "shell.execute_reply.started": "2021-06-02T12:32:37.071309Z",
          "shell.execute_reply": "2021-06-02T12:32:37.116324Z"
        },
        "trusted": true,
        "id": "MXFFnmL1zmlc"
      },
      "source": [
        ""
      ],
      "execution_count": 100,
      "outputs": []
    },
    {
      "cell_type": "code",
      "metadata": {
        "_uuid": "2bccaaf830765779c7a83bacc25619fe33fef887",
        "_cell_guid": "240e566e-7018-4ff1-b727-765453c6974e",
        "execution": {
          "iopub.status.busy": "2021-06-02T12:32:43.335557Z",
          "iopub.execute_input": "2021-06-02T12:32:43.336143Z",
          "iopub.status.idle": "2021-06-02T12:32:43.369803Z",
          "shell.execute_reply.started": "2021-06-02T12:32:43.336092Z",
          "shell.execute_reply": "2021-06-02T12:32:43.368464Z"
        },
        "trusted": true,
        "colab": {
          "base_uri": "https://localhost:8080/"
        },
        "id": "Bmz7Fnu2zmlc",
        "outputId": "970f1a5e-9fbe-4fff-9f43-9a5d2146f088"
      },
      "source": [
        ""
      ],
      "execution_count": 99,
      "outputs": [
        {
          "output_type": "stream",
          "text": [
            "Handicap_1\n",
            "0    0.202362\n",
            "1    0.179236\n",
            "Name: No-show, dtype: float64\n",
            "Handicap_2\n",
            "0    0.201934\n",
            "1    0.202186\n",
            "Name: No-show, dtype: float64\n",
            "Handicap_3\n",
            "0    0.201931\n",
            "1    0.230769\n",
            "Name: No-show, dtype: float64\n",
            "Handicap_4\n",
            "0    0.201931\n",
            "1    0.333333\n",
            "Name: No-show, dtype: float64\n"
          ],
          "name": "stdout"
        }
      ]
    },
    {
      "cell_type": "code",
      "metadata": {
        "colab": {
          "base_uri": "https://localhost:8080/",
          "height": 405
        },
        "id": "IU9r8Hi2brm6",
        "outputId": "c513e9c2-3cc9-4303-df6c-f3e7eb645547"
      },
      "source": [
        ""
      ],
      "execution_count": 105,
      "outputs": [
        {
          "output_type": "stream",
          "text": [
            "/usr/local/lib/python3.7/dist-packages/seaborn/_decorators.py:43: FutureWarning: Pass the following variable as a keyword arg: x. From version 0.12, the only valid positional argument will be `data`, and passing other arguments without an explicit keyword will result in an error or misinterpretation.\n",
            "  FutureWarning\n"
          ],
          "name": "stderr"
        },
        {
          "output_type": "execute_result",
          "data": {
            "text/plain": [
              "<matplotlib.axes._subplots.AxesSubplot at 0x7fddb3750250>"
            ]
          },
          "metadata": {
            "tags": []
          },
          "execution_count": 105
        },
        {
          "output_type": "display_data",
          "data": {
            "image/png": "[encoded data removed]",
            "text/plain": [
              "<Figure size 720x360 with 1 Axes>"
            ]
          },
          "metadata": {
            "tags": [],
            "needs_background": "light"
          }
        }
      ]
    },
    {
      "cell_type": "markdown",
      "metadata": {
        "_uuid": "e97145483c57d93c00d1e6e912221a932affb985",
        "_cell_guid": "b926b600-7c90-4e16-bc5c-6c9facf3f0f8",
        "id": "-3--bGPszmld"
      },
      "source": [
        "What stands out is a patient who is handicap_4 is 13 % more likely to not show up to an appointment than a person who is not handicap_4. "
      ]
    },
    {
      "cell_type": "markdown",
      "metadata": {
        "_uuid": "776ce30534c459f0fab1050d64e7c310a0b3406f",
        "_cell_guid": "7c9c2627-b6b8-4046-8dcf-d039ed1cd8a5",
        "id": "U_YrOjyizmle"
      },
      "source": [
        "## Whether the patient received a text reminder\n"
      ]
    },
    {
      "cell_type": "code",
      "metadata": {
        "_uuid": "9d175aad4b90c21fee0f4220beabaef9926fc615",
        "_cell_guid": "7b85881e-76a7-4047-a457-88906909fbcb",
        "execution": {
          "iopub.status.busy": "2021-06-02T12:33:00.233946Z",
          "iopub.execute_input": "2021-06-02T12:33:00.234358Z",
          "iopub.status.idle": "2021-06-02T12:33:00.249059Z",
          "shell.execute_reply.started": "2021-06-02T12:33:00.234324Z",
          "shell.execute_reply": "2021-06-02T12:33:00.248110Z"
        },
        "trusted": true,
        "id": "DJ_NjUI4zmle",
        "outputId": "dd8c1a32-26e0-4501-ad42-b85af82fcbde"
      },
      "source": [
        "df.groupby('SMS_received')['No-show'].mean()"
      ],
      "execution_count": null,
      "outputs": [
        {
          "output_type": "execute_result",
          "data": {
            "text/plain": [
              "SMS_received\n",
              "0    0.167033\n",
              "1    0.275745\n",
              "Name: No-show, dtype: float64"
            ]
          },
          "metadata": {
            "tags": []
          },
          "execution_count": 10
        }
      ]
    },
    {
      "cell_type": "markdown",
      "metadata": {
        "_uuid": "dde4b506aaa6cc03049b0801664191e36f211b38",
        "_cell_guid": "ccb4946a-55cc-47ee-8638-f119b0b5400a",
        "id": "S9GSpv2qzmlf"
      },
      "source": [
        "Unexpecedately, patients who received a text reminder did not show up to 27% person of their appointments, where as patients who did not receive a text reminder did not show up to 17% of their appointments"
      ]
    },
    {
      "cell_type": "markdown",
      "metadata": {
        "_uuid": "6efb26a379d4c664b7997c3ce38a2f19e404a6e2",
        "_cell_guid": "f316d93d-f27e-4ef2-8e7e-207d9b1b6684",
        "id": "vF5Mr7dzzmlf"
      },
      "source": [
        "## Feature Engineering"
      ]
    },
    {
      "cell_type": "markdown",
      "metadata": {
        "_uuid": "729c3b0b28f6456326c9eecd46470d9999bc5aa4",
        "_cell_guid": "77ef2aa4-05e4-48eb-bdb1-6f2bc1b24709",
        "id": "c3VJ9Jjkzmlg"
      },
      "source": [
        "## Age\n"
      ]
    },
    {
      "cell_type": "code",
      "metadata": {
        "_uuid": "daa9e9f3a25eec78d1faef7049661e8ebc1d0665",
        "_cell_guid": "66884166-65a6-4b41-bb07-055a383c252d",
        "execution": {
          "iopub.status.busy": "2021-06-02T12:33:24.771607Z",
          "iopub.execute_input": "2021-06-02T12:33:24.772041Z",
          "iopub.status.idle": "2021-06-02T12:33:24.780999Z",
          "shell.execute_reply.started": "2021-06-02T12:33:24.771997Z",
          "shell.execute_reply": "2021-06-02T12:33:24.779741Z"
        },
        "trusted": true,
        "id": "twp7mKtozmlg",
        "outputId": "9f0d9d1e-a276-45a1-bf18-7fd5bdfb4c82"
      },
      "source": [
        "min_age = df.Age.min()\n",
        "print(\"Min Age:\", min_age)\n",
        "max_age = df.Age.max()\n",
        "print(\"Max Age:\", max_age)\n"
      ],
      "execution_count": null,
      "outputs": [
        {
          "output_type": "stream",
          "text": [
            "Min Age: 0\n",
            "Max Age: 100\n"
          ],
          "name": "stdout"
        }
      ]
    },
    {
      "cell_type": "markdown",
      "metadata": {
        "_uuid": "d8d3bc1750e795ea2cb3bff41d3083fc0ab7ed54",
        "_cell_guid": "9d59f98e-ee5d-4377-8747-02de7dc35f08",
        "id": "ACt5LxyLzmli"
      },
      "source": [
        "Due to the fact that minimum age is said to be -1, I will remove in the next line all records where age is < 0. I will also treat as outliers any age above a 100 due to the lack of people that live more than a 100 years.  "
      ]
    },
    {
      "cell_type": "code",
      "metadata": {
        "_uuid": "75a35583b515f417f29823eda2192918d5956697",
        "_cell_guid": "6ddfe9e8-f98c-484d-910d-3e9da31627d2",
        "execution": {
          "iopub.status.busy": "2021-06-02T12:33:27.483842Z",
          "iopub.execute_input": "2021-06-02T12:33:27.484262Z",
          "iopub.status.idle": "2021-06-02T12:33:27.507169Z",
          "shell.execute_reply.started": "2021-06-02T12:33:27.484229Z",
          "shell.execute_reply": "2021-06-02T12:33:27.505952Z"
        },
        "trusted": true,
        "id": "bwaaooFbzmli"
      },
      "source": [
        "df = df[(df.Age >= 0) & (df.Age <= 100)]"
      ],
      "execution_count": null,
      "outputs": []
    },
    {
      "cell_type": "markdown",
      "metadata": {
        "_uuid": "fb806b56d3bf9ffc9a4aa71c0e78ce5ed941a7e0",
        "_cell_guid": "6d2ef100-c06e-4b90-8a9f-5c5e3f162198",
        "id": "0d-pjiBzzmlj"
      },
      "source": [
        "## Wait Time\n",
        "In my experience, if I schedule an appointment far in advance and no one reminds me, I tend to forget about it. Or by the time my appointment day arrives, I feel better and don't bother showing up. In this section, I will create a variable called \"wait_time\" to see if the time between the date an appointment was scheduled and the date was the appointment is,  has an affect on no-shows."
      ]
    },
    {
      "cell_type": "code",
      "metadata": {
        "_uuid": "6db816788b7693f38c7692d0f63c1c0e4b26ad5a",
        "_cell_guid": "a883889d-8eec-4dcb-bff7-6b430d98083c",
        "execution": {
          "iopub.status.busy": "2021-06-02T12:33:32.784056Z",
          "iopub.execute_input": "2021-06-02T12:33:32.784508Z",
          "iopub.status.idle": "2021-06-02T12:33:32.908383Z",
          "shell.execute_reply.started": "2021-06-02T12:33:32.784470Z",
          "shell.execute_reply": "2021-06-02T12:33:32.907044Z"
        },
        "trusted": true,
        "id": "3yXwrTFTzmlk"
      },
      "source": [
        "import numpy as np\n",
        "\n",
        "# Converts the two variables to datetime variables\n",
        "df['ScheduledDay'] = pd.to_datetime(df['ScheduledDay'])\n",
        "df['AppointmentDay'] = pd.to_datetime(df['AppointmentDay'])\n",
        "\n",
        "# Create a variable called \"AwaitingTime\" by subtracting the date the patient made the appointment and the date of the appointment.\n",
        "df['AwaitingTime'] = df[\"AppointmentDay\"].sub(df[\"ScheduledDay\"], axis=0)\n",
        "\n",
        "# Convert the result \"AwaitingTime\" to number of days between appointment day and scheduled day. \n",
        "df[\"AwaitingTime\"] = (df[\"AwaitingTime\"] / np.timedelta64(1, 'D')).abs()\n"
      ],
      "execution_count": null,
      "outputs": []
    },
    {
      "cell_type": "markdown",
      "metadata": {
        "_uuid": "6433bbe0c10c6d2920039e14b90ac9a4e5901bd7",
        "_cell_guid": "7aeda4e1-6bc8-4f45-95b4-1f3fa43aa0ba",
        "id": "XeR1SYLhzmlm"
      },
      "source": [
        "## Number of Appointments Missed in the Past\n",
        "Since PatientId is available, I created a new variable that adds how many appointments the patient has missed in the past. "
      ]
    },
    {
      "cell_type": "code",
      "metadata": {
        "_uuid": "07eea9be33b37cc78eba03ddefb8823c4d0080af",
        "_cell_guid": "4d1563e1-7164-4d56-b6b2-de81d8b14b17",
        "execution": {
          "iopub.status.busy": "2021-06-02T12:33:35.521604Z",
          "iopub.execute_input": "2021-06-02T12:33:35.522038Z",
          "iopub.status.idle": "2021-06-02T12:33:47.092201Z",
          "shell.execute_reply.started": "2021-06-02T12:33:35.522003Z",
          "shell.execute_reply": "2021-06-02T12:33:47.091045Z"
        },
        "trusted": true,
        "id": "kOQlkgF1zmlo"
      },
      "source": [
        "# Number of Appointments Missed by Patient\n",
        "df['Num_App_Missed'] = df.groupby('PatientId')['No-show'].apply(lambda x: x.cumsum())\n"
      ],
      "execution_count": null,
      "outputs": []
    },
    {
      "cell_type": "markdown",
      "metadata": {
        "_uuid": "0d3c3f0854340d95a98c82b02533020ab3e58364",
        "_cell_guid": "ea1a3ad1-0101-4f87-b174-34138173e0d9",
        "id": "5Z1qyl1Dzmlr"
      },
      "source": [
        "## Let's take a look what columns we have after the feature engineering"
      ]
    },
    {
      "cell_type": "code",
      "metadata": {
        "_uuid": "163b49a1e430f72f7c8e941ef60ccefd708cfc90",
        "_cell_guid": "aa71819b-a597-432c-9cc1-86d940e993bc",
        "scrolled": true,
        "execution": {
          "iopub.status.busy": "2021-06-02T12:33:47.094549Z",
          "iopub.execute_input": "2021-06-02T12:33:47.094977Z",
          "iopub.status.idle": "2021-06-02T12:33:47.102481Z",
          "shell.execute_reply.started": "2021-06-02T12:33:47.094931Z",
          "shell.execute_reply": "2021-06-02T12:33:47.101075Z"
        },
        "trusted": true,
        "id": "TnVvOI8qzmls",
        "outputId": "8813d9ae-a4e2-434f-a507-d4f70a06b9c4"
      },
      "source": [
        "df.columns"
      ],
      "execution_count": null,
      "outputs": [
        {
          "output_type": "execute_result",
          "data": {
            "text/plain": [
              "Index(['PatientId', 'AppointmentID', 'Gender', 'ScheduledDay',\n",
              "       'AppointmentDay', 'Age', 'Neighbourhood', 'Scholarship', 'Hipertension',\n",
              "       'Diabetes', 'Alcoholism', 'Handcap', 'SMS_received', 'No-show',\n",
              "       'Handicap_0', 'Handicap_1', 'Handicap_2', 'Handicap_3', 'Handicap_4',\n",
              "       'AwaitingTime', 'Num_App_Missed'],\n",
              "      dtype='object')"
            ]
          },
          "metadata": {
            "tags": []
          },
          "execution_count": 16
        }
      ]
    },
    {
      "cell_type": "markdown",
      "metadata": {
        "id": "qceFuHf7zmlt"
      },
      "source": [
        "No Show vs "
      ]
    },
    {
      "cell_type": "code",
      "metadata": {
        "id": "FXOwL9_azmlu"
      },
      "source": [
        ""
      ],
      "execution_count": null,
      "outputs": []
    },
    {
      "cell_type": "code",
      "metadata": {
        "id": "S1CVrCK8zmlv"
      },
      "source": [
        ""
      ],
      "execution_count": null,
      "outputs": []
    },
    {
      "cell_type": "code",
      "metadata": {
        "id": "_ZqEa7L0zmlv"
      },
      "source": [
        ""
      ],
      "execution_count": null,
      "outputs": []
    },
    {
      "cell_type": "code",
      "metadata": {
        "id": "5PRB_op5zmlw"
      },
      "source": [
        ""
      ],
      "execution_count": null,
      "outputs": []
    },
    {
      "cell_type": "code",
      "metadata": {
        "id": "PlmLl9pjzmlx"
      },
      "source": [
        ""
      ],
      "execution_count": null,
      "outputs": []
    },
    {
      "cell_type": "markdown",
      "metadata": {
        "_uuid": "f300a96775d84c56f5ad64e07c2d38d51a49da10",
        "_cell_guid": "969589d7-8f43-42c1-a276-240da53f6c8d",
        "id": "DawqTGgYzmlz"
      },
      "source": [
        "## I will drop columns that won't be used for modeling\n",
        "Drop both ID indicators as they are unique values. Drop Age, ScheduledDay, and AppointmentDay because I engineered variables that will take the place of these. I also dropped Neighbourhood because there are more than 88 neighbourhoods, and it was considerably slowing my model down. "
      ]
    },
    {
      "cell_type": "code",
      "metadata": {
        "_uuid": "f81b5e62e22b483a7af89be13359dea561d78022",
        "_cell_guid": "fc039954-6149-42a9-aea4-858f0976aacf",
        "collapsed": true,
        "jupyter": {
          "outputs_hidden": true
        },
        "id": "ceHSTzP8zml0"
      },
      "source": [
        "df.drop([\"PatientId\",'AppointmentID',\n",
        "         'ScheduledDay','Handcap','AppointmentDay','Neighbourhood'], axis=1, inplace = True)"
      ],
      "execution_count": null,
      "outputs": []
    },
    {
      "cell_type": "markdown",
      "metadata": {
        "_uuid": "d7a95f25e78b0b227f443788816845f9482d0768",
        "_cell_guid": "005e0ddf-34cc-444c-88d0-614d2d8638b9",
        "id": "nDUGXSrizml0"
      },
      "source": [
        "## These are the final features and  target variable"
      ]
    },
    {
      "cell_type": "code",
      "metadata": {
        "_uuid": "87a117be78ddef0b78bbbe649695117f106c6bbc",
        "_cell_guid": "8599554e-2915-456f-9d18-f7047f98ed18",
        "collapsed": true,
        "jupyter": {
          "outputs_hidden": true
        },
        "id": "1qtB7mCOzml1"
      },
      "source": [
        "X = df[['Gender', 'Diabetes','Hipertension', 'Scholarship', 'SMS_received',\n",
        "        'Handicap_0','Handicap_1','Handicap_2','Handicap_3','Handicap_4', 'Num_App_Missed', 'Age', 'AwaitingTime']]\n",
        "\n",
        "y = df[\"No-show\"]"
      ],
      "execution_count": null,
      "outputs": []
    },
    {
      "cell_type": "code",
      "metadata": {
        "_uuid": "e3214e07e81b9dc1f5250faf956fee21964f7205",
        "_cell_guid": "de17b93e-a7c3-4638-bd1b-a36374d8f87a",
        "collapsed": true,
        "jupyter": {
          "outputs_hidden": true
        },
        "id": "csGa7qTQzml1"
      },
      "source": [
        "#This will create dummies for the remaining variables (Gender)\n",
        "X_train1 = pd.get_dummies(X)"
      ],
      "execution_count": null,
      "outputs": []
    },
    {
      "cell_type": "markdown",
      "metadata": {
        "_uuid": "8a26b99bff9209103e8fc7c41001f08c4304abcc",
        "_cell_guid": "69dc2163-f1d9-4806-9867-ee39c8b71d21",
        "id": "vks3TnxNzml2"
      },
      "source": [
        "## In the following code, I scaled the data so that all values are between 0 and 1. \n",
        "The following explanation is from MachineLearningMastery.com and explains how this scaling works:\n",
        "\n",
        "Standardization is a useful technique to transform attributes with a Gaussian distribution and differing means and standard deviations to a standard Gaussian distribution with a mean of 0 and a standard deviation of 1.\n",
        "\n",
        "It is most suitable for techniques that assume a Gaussian distribution in the input variables and work better with rescaled data, such as linear regression, logistic regression and linear discriminate analysis.\n",
        "\n"
      ]
    },
    {
      "cell_type": "code",
      "metadata": {
        "_uuid": "5571c5f56b9a35759496f357123997724aeab0d5",
        "_cell_guid": "221493dc-3b5f-4f77-be31-d6ae3bcf7edd",
        "collapsed": true,
        "jupyter": {
          "outputs_hidden": true
        },
        "id": "DZs-vFMSzml2"
      },
      "source": [
        "from sklearn.preprocessing import StandardScaler\n",
        "scaler = StandardScaler().fit(X_train1)\n",
        "rescaledX2 = scaler.transform(X_train1)\n",
        "# summarize transformed data\n",
        "np.set_printoptions(precision=3)\n",
        "print(rescaledX2[0:5,:])"
      ],
      "execution_count": null,
      "outputs": []
    },
    {
      "cell_type": "markdown",
      "metadata": {
        "_uuid": "7bc52fb7f4258925bf93e013dc0a082a9f7dc9d6",
        "_cell_guid": "92cd5636-9188-4673-8b28-5e0075a2b2e1",
        "id": "DfXPCZiNzml3"
      },
      "source": [
        "## Logistic Regression\n"
      ]
    },
    {
      "cell_type": "code",
      "metadata": {
        "_uuid": "ab10ef26be3a83f1f2c7e667d5bcc69e2c41c569",
        "_cell_guid": "c8883211-241f-428c-be10-40b3aec83e04",
        "collapsed": true,
        "jupyter": {
          "outputs_hidden": true
        },
        "id": "uTOZbC9uzml3"
      },
      "source": [
        "from sklearn import metrics\n",
        "from sklearn.linear_model import LogisticRegression\n",
        "from sklearn.cross_validation import train_test_split\n",
        "\n",
        "# Create Training and Test Dataset with 75% Training and 25% Test\n",
        "X_train, X_test, y_train, y_test = train_test_split(rescaledX2, y, test_size=0.25)\n",
        "\n",
        "# Run Logistic Regression\n",
        "logreg = LogisticRegression()\n",
        "logreg.fit(X_train, y_train)\n",
        "y_pred = logreg.predict(X_test)\n",
        "\n",
        "# Analyze results\n",
        "print(\"Results:\")\n",
        "print(\"Accuracy\", metrics.accuracy_score(y_test,y_pred))\n",
        "\n",
        "# save confusion matrix and slice into four pieces\n",
        "confusion = metrics.confusion_matrix(y_test, y_pred)\n",
        "TP = confusion[1, 1]\n",
        "TN = confusion[0, 0]\n",
        "FP = confusion[0, 1]\n",
        "FN = confusion[1, 0]\n",
        "\n",
        "#Specificity: When the actual value is negative, how often is the prediction correct?\n",
        "print(\"Specificity:\",TN / float(TN + FP))\n",
        "\n",
        "#False Positive Rate: When the actual value is negative, how often is the prediction incorrect?\n",
        "print(\"False Positive Rate:\",FP / float(TN + FP))\n",
        "\n",
        "#Precision: When a positive value is predicted, how often is the prediction correct?\n",
        "print(\"Precision:\",metrics.precision_score(y_test, y_pred))\n",
        "\n",
        "#Sensitivity:\n",
        "print(\"Recall:\",metrics.recall_score(y_test, y_pred))"
      ],
      "execution_count": null,
      "outputs": []
    },
    {
      "cell_type": "markdown",
      "metadata": {
        "_uuid": "78c4e86930ba85664d4be87836b83d8610fb61da",
        "_cell_guid": "4eaac821-8285-4699-9464-3f412983e11e",
        "id": "UdZ_bccJzml3"
      },
      "source": [
        "## Class Distribution\n",
        "The null accuracy is ~ 80%, which means that if there is no model, and we 'naivly' predict that everyone will show up, we will be right 80 % of the time. That means the model needs to do better than this base accuracy in order to be useful."
      ]
    },
    {
      "cell_type": "code",
      "metadata": {
        "_uuid": "5a495ef1dfd6818224406866ff5cef78fe0055c0",
        "_cell_guid": "0d4f957b-0073-478e-9505-ec832360f2f8",
        "scrolled": true,
        "collapsed": true,
        "jupyter": {
          "outputs_hidden": true
        },
        "id": "cXRsbpChzml4"
      },
      "source": [
        "# examine the class distribution of the testing set (using a Pandas Series method)\n",
        "print(\"Class Distribution:\", y_test.value_counts())\n",
        "# calculate the percentage of ones\n",
        "print(\"Percentage of Ones:\", y_test.mean())\n",
        "\n",
        "# calculate the percentage of zeros\n",
        "print(\"Percentage of Zeros:\", 1 - y_test.mean())\n",
        "\n",
        "# calculate null accuracy (for binary classification problems coded as 0/1)\n",
        "print(\"Null Accuracy:\",max(y_test.mean(), 1 - y_test.mean()))"
      ],
      "execution_count": null,
      "outputs": []
    },
    {
      "cell_type": "markdown",
      "metadata": {
        "_uuid": "e9c7caa1814ceca3ebe49cf4cb7155cad0a2664b",
        "_cell_guid": "ee3af4ec-e0ab-4754-805e-aa2248234d14",
        "id": "W-6FRIOEzml4"
      },
      "source": [
        "The Logistic Regression model is 89.88 % accuracate on the test set, which is an improvement of 9.88% better than a naive model. \n",
        "\n",
        "Recall: Out of the ones that did not show up, how many did we predict correctly? 50 %\n",
        "\n",
        "Precision: Out of the ones our model said will not show up, how many didn't ? 72 %\n",
        "\n"
      ]
    },
    {
      "cell_type": "code",
      "metadata": {
        "_uuid": "9e7d16c02cbfab5010304478e80f38ba568ac002",
        "_cell_guid": "ff16b47c-1326-4873-8c1e-ad1a2145a374",
        "collapsed": true,
        "jupyter": {
          "outputs_hidden": true
        },
        "id": "smIpYL0gzml4"
      },
      "source": [
        "from sklearn.tree import DecisionTreeClassifier\n",
        "from sklearn.cross_validation import train_test_split\n",
        "\n",
        "X_train2, X_test2, y_train2, y_test2 = train_test_split(rescaledX2, y, test_size=0.25, random_state = 42)\n",
        "\n",
        "tree = DecisionTreeClassifier(max_depth=10, random_state=0)\n",
        "tree.fit(X_train2, y_train2)\n",
        "y_pred2 = tree.predict(X_test2)\n",
        "print('Accuracy on the training subset: {:.3f}'.format(tree.score(X_train2, y_train2)))\n",
        "print('Accuracy on the test subset: {:.3f}'.format(tree.score(X_test2, y_test2)))\n",
        "\n",
        "\n",
        "# save confusion matrix and slice into four pieces\n",
        "confusion = metrics.confusion_matrix(y_test2, y_pred2)\n",
        "TP = confusion[1, 1]\n",
        "TN = confusion[0, 0]\n",
        "FP = confusion[0, 1]\n",
        "FN = confusion[1, 0]\n",
        "\n",
        "#Specificity: When the actual value is negative, how often is the prediction correct?\n",
        "print(\"Specificity:\",TN / float(TN + FP))\n",
        "\n",
        "#False Positive Rate: When the actual value is negative, how often is the prediction incorrect?\n",
        "print(\"False Positive Rate:\",FP / float(TN + FP))\n",
        "\n",
        "#Precision: When a positive value is predicted, how often is the prediction correct?\n",
        "print(\"Precision:\",metrics.precision_score(y_test2, y_pred2))\n",
        "\n",
        "#Sensitivity:\n",
        "print(\"Recall:\",metrics.recall_score(y_test2, y_pred2))"
      ],
      "execution_count": null,
      "outputs": []
    },
    {
      "cell_type": "markdown",
      "metadata": {
        "_uuid": "2ed137706751d355b7be058db9ed229e94bd8ed3",
        "_cell_guid": "1aeee9b2-4c53-4d23-b32d-c8a6fa665a9b",
        "id": "ZBxc4w0Lzml5"
      },
      "source": [
        "The model is 92 % accuracate on the test set, which is an improvement of 12% better than a naive model.\n",
        "\n",
        "Recall: Out of the ones that did not show up, how many did we predict correctly? 88 %\n",
        "\n",
        "Precision: Out of the ones our model said will not show up, how many didn't ? 75 %"
      ]
    },
    {
      "cell_type": "markdown",
      "metadata": {
        "_uuid": "531aaa6543c53c70108a78908546c7e60d89bd5f",
        "_cell_guid": "98469c59-214d-4614-9541-df8c0c60a5ee",
        "id": "DkBIM_Ryzml5"
      },
      "source": [
        "To determine which metric to use, we need to do a cost-benefit analysis. \n",
        "Implications:\n",
        "True Positive: Model says patient wil not show up, and they don't\n",
        "False Positive: Model says patient will not show up, but they do\n",
        "True Negative: Model says patient will show up, and they do\n",
        "False Negative: Model says a patient will show up, but they don't\n",
        "\n",
        "To determine which metric to use, we need to do a cost-benefit analysis. \n",
        "If we say a patient will not show up, but they do, the office would be booked and patients will have to wait and they will get upset. If we say a patient will show up, but they don't then the doctor's office will lose money because another patient could have been served at that time. \n",
        "\n",
        "Based on domain knowledge and past experiences, the office would rather overbook than have empty time in their schedule. Therefore, recall is the metric they care about, and based on recall, the decision tree clasifier performed the best at 88%. "
      ]
    },
    {
      "cell_type": "markdown",
      "metadata": {
        "_uuid": "4389d0d43b8eebc7bdb984b0e6b59e4bcc1e7a64",
        "_cell_guid": "46685b52-5884-439b-8a66-8a9cda8ea6a3",
        "id": "nUIzZxhVzml5"
      },
      "source": [
        "## Most important features"
      ]
    },
    {
      "cell_type": "code",
      "metadata": {
        "_uuid": "4c8295836dbc490c2b2ae37b46553b9dafac3b57",
        "_cell_guid": "442f5c44-b3b5-43eb-9b40-907717d5deb8",
        "collapsed": true,
        "jupyter": {
          "outputs_hidden": true
        },
        "id": "oIG96dfGzml6"
      },
      "source": [
        "import matplotlib.pyplot as plt\n",
        "n_features = X_train1.shape[1]\n",
        "plt.barh(range(n_features), tree.feature_importances_, )\n",
        "plt.yticks(np.arange(n_features), X_train1)\n",
        "plt.xlabel('Feature Importance')\n",
        "plt.ylabel('Feature')\n",
        "plt.show()"
      ],
      "execution_count": null,
      "outputs": []
    },
    {
      "cell_type": "markdown",
      "metadata": {
        "_uuid": "61a09b2478ad94820d333acd64756694db5f23ca",
        "_cell_guid": "bcc793b8-e24e-48cb-bbe1-3c12fe507970",
        "id": "UovwqSq-zml6"
      },
      "source": [
        "Most important features are:\n",
        "    - Age of the patient\n",
        "    - WaitingTime (how long in advanced was appointment scheduled)\n",
        "    - Number of appointments missed in the past\n",
        "    \n"
      ]
    },
    {
      "cell_type": "markdown",
      "metadata": {
        "_uuid": "1719184d3c79b6f554f93d8279444bb7751ebce3",
        "_cell_guid": "e8430218-3c6d-4b56-99c1-da757efc7e82",
        "id": "wc1qjfCuzml6"
      },
      "source": [
        "## Explore Important Features \n",
        "## Age"
      ]
    },
    {
      "cell_type": "code",
      "metadata": {
        "_uuid": "9e38092fab91c0a747f6870060641b33b427823e",
        "_cell_guid": "5c17dce5-b425-4a05-8881-901f0551c2fd",
        "collapsed": true,
        "jupyter": {
          "outputs_hidden": true
        },
        "id": "nS6FhLx4zml6"
      },
      "source": [
        "bins = [0, 20, 40, 60, 100]\n",
        "age_groups = df.groupby(pd.cut(df.Age, bins))\n",
        "age_groups[\"No-show\"].mean()\n"
      ],
      "execution_count": null,
      "outputs": []
    },
    {
      "cell_type": "markdown",
      "metadata": {
        "_uuid": "bd60cc822819afdb1cd66daa1730a3bb5314dd86",
        "_cell_guid": "4debfdde-d000-46ae-a43d-c5350cefcdab",
        "id": "gRmFl2EUzml7"
      },
      "source": [
        "The data shows that patients over 40 are more likely to show up than patients under 40, and patients over the age of 60 are 7% more likely to shows up than patients under 40."
      ]
    },
    {
      "cell_type": "markdown",
      "metadata": {
        "_uuid": "3b09c46c7c542b9b838b6babd54ddf2ef15e72f6",
        "_cell_guid": "456d00ce-389d-4ffd-a795-b6c7363621e4",
        "id": "zPC-MWRZzml7"
      },
      "source": [
        "## Awaiting Time\n"
      ]
    },
    {
      "cell_type": "code",
      "metadata": {
        "_uuid": "f335371a1dec0e3640329998908f57e985c75c1a",
        "_cell_guid": "8080f391-db30-4889-897d-fe75a7e141ac",
        "collapsed": true,
        "jupyter": {
          "outputs_hidden": true
        },
        "id": "wExWUbSOzml7"
      },
      "source": [
        "bins = [0,1,7, 180]\n",
        "wait_time = df.groupby(pd.cut(df.AwaitingTime, bins))\n",
        "wait_time[\"No-show\"].mean()"
      ],
      "execution_count": null,
      "outputs": []
    },
    {
      "cell_type": "markdown",
      "metadata": {
        "_uuid": "2773c44a265f60c8cfe5c21f9a9d76cafc2ad6b0",
        "_cell_guid": "0076dbb9-d0d4-4ba4-baab-b067143a8d9e",
        "id": "J7gyKn-jzml8"
      },
      "source": [
        "People who scheduled 1 day or less in advance of their appointment, did not show up only 6.6 % of the time. Those that scheduled more than 1 day but less than 1 week in advance, did not show up 25 % of the time, and those who scheduled more than 2 weeks in advance did not show up more than 30% of the time.The results did not surprise me. Based on my experience, when I schedule an appointment too far in advance, I either forget to go to it if I'm not remided, or I feel better by the time the appointment comes and don't go."
      ]
    },
    {
      "cell_type": "markdown",
      "metadata": {
        "_uuid": "9a569bedee45cf3b92ded16948243560350f9e27",
        "_cell_guid": "c40e2dd2-f239-42e8-b2be-a29832cf94fd",
        "id": "Pi9LkKxBzml8"
      },
      "source": [
        ""
      ]
    }
  ]
}